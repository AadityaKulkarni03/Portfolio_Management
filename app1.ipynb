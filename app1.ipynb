{
 "cells": [
  {
   "cell_type": "code",
   "execution_count": 8,
   "metadata": {},
   "outputs": [],
   "source": [
    "from flask import Flask, render_template, request\n",
    "import pandas as pd\n",
    "import portfolio_analytics.data\n",
    "import os\n",
    "from portfolio_analytics.classes.market_data import MarketData\n",
    "from portfolio_analytics.classes.portfolio_decomposer import PortfolioDecomposer"
   ]
  },
  {
   "cell_type": "code",
   "execution_count": 9,
   "metadata": {},
   "outputs": [],
   "source": [
    "app = Flask(__name__)"
   ]
  },
  {
   "cell_type": "code",
   "execution_count": 10,
   "metadata": {},
   "outputs": [],
   "source": [
    "# Paths for portfolio_analytics data\n",
    "DB_PATH = \"portfolio_analytics/data/stocks.db\"\n",
    "META_PATH = \"portfolio_analytics/data/etf_metadata.json\""
   ]
  },
  {
   "cell_type": "code",
   "execution_count": 11,
   "metadata": {},
   "outputs": [],
   "source": [
    "# Initialize MarketData\n",
    "market_data = MarketData(db_name=DB_PATH, meta_file=META_PATH)\n",
    "\n",
    "UPLOAD_FOLDER = \"uploads\"\n",
    "os.makedirs(UPLOAD_FOLDER, exist_ok=True)"
   ]
  },
  {
   "cell_type": "code",
   "execution_count": 12,
   "metadata": {},
   "outputs": [
    {
     "name": "stdout",
     "output_type": "stream",
     "text": [
      " * Serving Flask app '__main__'\n",
      " * Debug mode: on\n"
     ]
    },
    {
     "name": "stderr",
     "output_type": "stream",
     "text": [
      "WARNING: This is a development server. Do not use it in a production deployment. Use a production WSGI server instead.\n",
      " * Running on http://127.0.0.1:5000\n",
      "Press CTRL+C to quit\n",
      " * Restarting with stat\n"
     ]
    },
    {
     "ename": "SystemExit",
     "evalue": "1",
     "output_type": "error",
     "traceback": [
      "An exception has occurred, use %tb to see the full traceback.\n",
      "\u001b[1;31mSystemExit\u001b[0m\u001b[1;31m:\u001b[0m 1\n"
     ]
    },
    {
     "name": "stderr",
     "output_type": "stream",
     "text": [
      "c:\\Users\\HP\\Desktop\\flask-app\\venv\\Lib\\site-packages\\IPython\\core\\interactiveshell.py:3587: UserWarning: To exit: use 'exit', 'quit', or Ctrl-D.\n",
      "  warn(\"To exit: use 'exit', 'quit', or Ctrl-D.\", stacklevel=1)\n"
     ]
    }
   ],
   "source": [
    "@app.route(\"/\")\n",
    "def index():\n",
    "    return render_template(\"index.html\")\n",
    "\n",
    "@app.route(\"/upload\", methods=[\"POST\"])\n",
    "def upload_file():\n",
    "    if \"file\" not in request.files:\n",
    "        return \"No file part\"\n",
    "\n",
    "    file = request.files[\"file\"]\n",
    "    if file.filename == \"\":\n",
    "        return \"No selected file\"\n",
    "\n",
    "    # Save the file\n",
    "    filepath = os.path.join(UPLOAD_FOLDER, file.filename)\n",
    "    file.save(filepath)\n",
    "\n",
    "    # Read the CSV/XLS file\n",
    "    df = pd.read_csv(filepath) if file.filename.endswith(\".csv\") else pd.read_excel(filepath)\n",
    "\n",
    "    # Process Portfolio\n",
    "    portfolio_analyzer = PortfolioDecomposer(port=df, market_data=market_data)\n",
    "    decomposed_stocks = portfolio_analyzer.decompose_stocks()\n",
    "    decomposed_sectors = portfolio_analyzer.decompose_sectors()\n",
    "    #print(decomposed_stocks)\n",
    "\n",
    "    return render_template(\n",
    "        \"results.html\",\n",
    "        stocks=decomposed_stocks.to_html(classes=\"table\"),\n",
    "        sectors=decomposed_sectors.to_html(classes=\"table\"),\n",
    "    )\n",
    "\n",
    "if __name__ == \"__main__\":\n",
    "    app.run(debug=True)\n"
   ]
  }
 ],
 "metadata": {
  "kernelspec": {
   "display_name": "venv",
   "language": "python",
   "name": "python3"
  },
  "language_info": {
   "codemirror_mode": {
    "name": "ipython",
    "version": 3
   },
   "file_extension": ".py",
   "mimetype": "text/x-python",
   "name": "python",
   "nbconvert_exporter": "python",
   "pygments_lexer": "ipython3",
   "version": "3.11.9"
  }
 },
 "nbformat": 4,
 "nbformat_minor": 2
}
